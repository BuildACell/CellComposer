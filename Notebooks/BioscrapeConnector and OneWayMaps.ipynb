{
 "cells": [
  {
   "cell_type": "markdown",
   "metadata": {},
   "source": [
    "# This notebook provides a number of examples for how Vivarium can combine SBML models using the Bioscrape Simulator\n",
    "\n",
    "This notebook described how to use Vivarium-Bioscrape to encapsulate Chemical Reaction Network (CRN) models as Vivarium Processes. This allows for CRN models to be run in parallel (including hybrid stochastic/deterministic simulation), coupled with other modeling modalities (such as physics or flux balance).\n",
    "\n",
    "__Overview:__ \n",
    "1. Systems Biology Markup langauge ([SBML](http://sbml.org/Main_Page)) is a file format to represent Chemical Reaction Network Models. The SBML files used in this notebook are generated via [BioCRNpyler](https://github.com/BuildACell/BioCRNPyler) in the Example Models notebook.\n",
    "2. The SBML simulator [Bioscrape](https://github.com/biocircuits/bioscrape) has been wrapped in a Vivarium Process, aptly named Bioscrape.\n",
    "3. Multiple Bioscrape Processes are connected together by creating a BioscrapeConnector which contains lists of models and the connections between them.\n",
    "4. Models are connected via an arbitrary translation function stored in the OneWayMap object.\n",
    "5. The BioscrapeConnector can then be simulated. _Warning: Simulation stability may depend strongly on the global coupling time._\n",
    "\n",
    "Choosing the correct map between CRN models will, in general, be dependent on the model and desired behavior. This problem can be succintly stated: if speciex $X$ in CRN 1 changes by $\\Delta_X$, how should the species in CRN 2 change? The OneWayMap class allows for complete user control over how CRN models communicate by encapsulating an arbitrary python function. A number of common examples of OneWayMaps are given in this notebook including: renaming species, mapping one species to many species and many species to one species, mapping increases and decreases differently, dynamic maps which depend upon the current state, and stochastic to deterministic maps."
   ]
  },
  {
   "cell_type": "code",
   "execution_count": null,
   "metadata": {},
   "outputs": [],
   "source": [
    "\n",
    "\n"
   ]
  }
 ],
 "metadata": {
  "kernelspec": {
   "display_name": "Python 3",
   "language": "python",
   "name": "python3"
  },
  "language_info": {
   "codemirror_mode": {
    "name": "ipython",
    "version": 3
   },
   "file_extension": ".py",
   "mimetype": "text/x-python",
   "name": "python",
   "nbconvert_exporter": "python",
   "pygments_lexer": "ipython3",
   "version": "3.7.4"
  }
 },
 "nbformat": 4,
 "nbformat_minor": 4
}
