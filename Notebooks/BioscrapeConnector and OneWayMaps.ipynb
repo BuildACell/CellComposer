{
 "cells": [
  {
   "cell_type": "markdown",
   "metadata": {},
   "source": [
    "# This notebook provides a number of examples for how Vivarium can combine SBML models using the Bioscrape Simulator\n",
    "\n",
    "This notebook described how to use Vivarium-Bioscrape to encapsulate Chemical Reaction Network (CRN) models as Vivarium Processes. This allows for CRN models to be run in parallel (including hybrid stochastic/deterministic simulation), coupled with other modeling modalities (such as physics or flux balance).\n",
    "\n",
    "__Overview:__ \n",
    "1. Systems Biology Markup langauge ([SBML](http://sbml.org/Main_Page)) is a file format to represent Chemical Reaction Network Models. The SBML files used in this notebook are generated via [BioCRNpyler](https://github.com/BuildACell/BioCRNPyler) in the Example Models notebook.\n",
    "2. The SBML simulator [Bioscrape](https://github.com/biocircuits/bioscrape) has been wrapped in a Vivarium Process, aptly named Bioscrape.\n",
    "3. Multiple Bioscrape Processes are connected together by creating a BioscrapeConnector which contains lists of models and the connections between them.\n",
    "4. Models are connected via an arbitrary translation function stored in the OneWayMap object.\n",
    "5. The BioscrapeConnector can then be simulated. _Warning: Simulation stability may depend strongly on the global coupling time._\n",
    "\n",
    "Choosing the correct map between CRN models will, in general, be dependent on the model and desired behavior. This problem can be succintly stated: if speciex $X$ in CRN 1 changes by $\\Delta_X$, how should the species in CRN 2 change? The OneWayMap class allows for complete user control over how CRN models communicate by encapsulating an arbitrary python function. A number of common examples of OneWayMaps are given in this notebook including: renaming species, mapping one species to many species and many species to one species, mapping increases and decreases differently, dynamic maps which depend upon the current state, and stochastic to deterministic maps."
   ]
  },
  {
   "cell_type": "markdown",
   "metadata": {},
   "source": [
    "# Example 1: one_to_one_mapping\n",
    "\n",
    "In this example, two species in model 1 will each be linked to a single species in model 4 (two one-to-one mappings)"
   ]
  },
  {
   "cell_type": "code",
   "execution_count": 2,
   "metadata": {},
   "outputs": [
    {
     "ename": "ModuleNotFoundError",
     "evalue": "No module named 'vivarium_bioscrape.library'",
     "output_type": "error",
     "traceback": [
      "\u001b[1;31m---------------------------------------------------------------------------\u001b[0m",
      "\u001b[1;31mModuleNotFoundError\u001b[0m                       Traceback (most recent call last)",
      "\u001b[1;32m<ipython-input-2-d4187e244ef2>\u001b[0m in \u001b[0;36m<module>\u001b[1;34m\u001b[0m\n\u001b[1;32m----> 1\u001b[1;33m \u001b[1;32mfrom\u001b[0m \u001b[0mvivarium_bioscrape\u001b[0m\u001b[1;33m.\u001b[0m\u001b[0mlibrary\u001b[0m\u001b[1;33m.\u001b[0m\u001b[0mmappings\u001b[0m \u001b[1;32mimport\u001b[0m \u001b[0mone_to_one_map\u001b[0m\u001b[1;33m\u001b[0m\u001b[1;33m\u001b[0m\u001b[0m\n\u001b[0m\u001b[0;32m      2\u001b[0m \u001b[1;33m\u001b[0m\u001b[0m\n\u001b[0;32m      3\u001b[0m \u001b[1;31m#Create Bioscrape Processes\u001b[0m\u001b[1;33m\u001b[0m\u001b[1;33m\u001b[0m\u001b[1;33m\u001b[0m\u001b[0m\n\u001b[0;32m      4\u001b[0m \u001b[1;31m#Model 1: is a simple transcription translation model\u001b[0m\u001b[1;33m\u001b[0m\u001b[1;33m\u001b[0m\u001b[1;33m\u001b[0m\u001b[0m\n\u001b[0;32m      5\u001b[0m bsp1 = Bioscrape(parameters = {\n",
      "\u001b[1;31mModuleNotFoundError\u001b[0m: No module named 'vivarium_bioscrape.library'"
     ]
    }
   ],
   "source": [
    "from vivarium_bioscrape.library.mappings import one_to_one_map\n",
    "\n",
    "#Create Bioscrape Processes\n",
    "#Model 1: is a simple transcription translation model\n",
    "bsp1 = Bioscrape(parameters = {\n",
    "    'sbml_file':'model1.xml'\n",
    "    })\n",
    "\n",
    "#Model 4 adds degredation by dilution to proteins and RNAs\n",
    "bsp2 = Bioscrape(parameters = {\n",
    "    'sbml_file':'model4.xml'\n",
    "    })\n",
    "\n",
    "#Create the map_function using one_to_one_map\n",
    "#rna_T --> rna_RNA\n",
    "#proteinX --> protein_Protein\n",
    "map_func = one_to_one_map(bsp1, bsp2, ['rna_T', 'protein_X'], ['rna_RNA', 'protein_Protein'])\n",
    "\n",
    "print(map_func({'source_deltas':{'rnaT':1.0}}))"
   ]
  },
  {
   "cell_type": "code",
   "execution_count": null,
   "metadata": {},
   "outputs": [],
   "source": []
  }
 ],
 "metadata": {
  "kernelspec": {
   "display_name": "Python 3",
   "language": "python",
   "name": "python3"
  },
  "language_info": {
   "codemirror_mode": {
    "name": "ipython",
    "version": 3
   },
   "file_extension": ".py",
   "mimetype": "text/x-python",
   "name": "python",
   "nbconvert_exporter": "python",
   "pygments_lexer": "ipython3",
   "version": "3.7.4"
  }
 },
 "nbformat": 4,
 "nbformat_minor": 4
}
